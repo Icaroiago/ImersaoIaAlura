{
  "nbformat": 4,
  "nbformat_minor": 0,
  "metadata": {
    "colab": {
      "provenance": [],
      "include_colab_link": true
    },
    "kernelspec": {
      "name": "python3",
      "display_name": "Python 3"
    },
    "language_info": {
      "name": "python"
    }
  },
  "cells": [
    {
      "cell_type": "markdown",
      "metadata": {
        "id": "view-in-github",
        "colab_type": "text"
      },
      "source": [
        "<a href=\"https://colab.research.google.com/github/Icaroiago/ImersaoIaAlura/blob/main/Meu_Agenta_Imers%C3%A3o_IA_Alura_%2B_Google_Gemini_Agentes.ipynb\" target=\"_parent\"><img src=\"https://colab.research.google.com/assets/colab-badge.svg\" alt=\"Open In Colab\"/></a>"
      ]
    },
    {
      "cell_type": "code",
      "source": [
        "%pip -q install google-genai"
      ],
      "metadata": {
        "id": "UCCbECexLk_h"
      },
      "execution_count": 1,
      "outputs": []
    },
    {
      "cell_type": "code",
      "source": [
        "# Configura a API Key do Google Gemini\n",
        "\n",
        "import os\n",
        "from google.colab import userdata\n",
        "\n",
        "os.environ[\"GOOGLE_API_KEY\"] = userdata.get('GOOGLE_API_KEY')"
      ],
      "metadata": {
        "id": "NfCqHo1tLk8P"
      },
      "execution_count": 14,
      "outputs": []
    },
    {
      "cell_type": "code",
      "source": [
        "# Configura o cliente da SDK do Gemini\n",
        "\n",
        "from google import genai\n",
        "\n",
        "client = genai.Client()\n",
        "\n",
        "MODEL_ID = \"gemini-2.0-flash\""
      ],
      "metadata": {
        "id": "bV4w0H5TLk5g"
      },
      "execution_count": 15,
      "outputs": []
    },
    {
      "cell_type": "code",
      "source": [
        "# Pergunta ao Gemini uma informação mais recente que seu conhecimento\n",
        "\n",
        "from IPython.display import HTML, Markdown\n",
        "\n",
        "# Perguntar pro modelo quando é a próxima imersão de IA ###############################################\n",
        "resposta = client.models.generate_content(\n",
        "    model=MODEL_ID,\n",
        "    contents='Qual é a matchup mais dificil para o Aatrox?',\n",
        "    config = {\"tools\" : [{\"google_search\": {}}]}\n",
        "    # Inserir a tool de busca do Google ###############################################\n",
        ")\n",
        "\n",
        "# Exibe a resposta na tela\n",
        "display(Markdown(f\"Resposta:\\n {resposta.text}\"))"
      ],
      "metadata": {
        "id": "HwVP7Xi34Zuw",
        "colab": {
          "base_uri": "https://localhost:8080/",
          "height": 249
        },
        "outputId": "4fd6fbab-4dec-4016-8a91-89afd3eba417"
      },
      "execution_count": 16,
      "outputs": [
        {
          "output_type": "display_data",
          "data": {
            "text/plain": [
              "<IPython.core.display.Markdown object>"
            ],
            "text/markdown": "Resposta:\n De acordo com as fontes, alguns dos matchups mais difíceis para Aatrox incluem:\n\n*   **Singed, Quinn, Vayne, Akali e Riven:** Esses campeões são consistentemente listados como alguns dos counters mais eficazes de Aatrox, com altas taxas de vitória contra ele.\n*   **Fiora e Irelia:** Fiora é um counter popular por causa da sua capacidade de desviar dos ataques de Aatrox e aplicar dano verdadeiro. Irelia também é um matchup difícil.\n*   **Malphite:** Malphite também é uma escolha forte contra Aatrox, especialmente em termos de taxa de vitória.\n*   **Campeões com muita mobilidade:** Aatrox depende de acertar suas habilidades, então campeões com muita mobilidade, como Irelia e Akali, podem ser difíceis de acertar.\n*   **Campeões com efeitos de feridas dolorosas:** Aatrox depende muito da cura, então campeões com efeitos de feridas dolorosas, como Kled, podem reduzir sua eficácia.\n*   **Kayle:** Alguns jogadores consideram Kayle como um matchup difícil para Aatrox.\n\nÉ importante lembrar que a dificuldade de um matchup também pode depender da habilidade do jogador e da composição da equipe."
          },
          "metadata": {}
        }
      ]
    },
    {
      "cell_type": "code",
      "source": [
        "# Pergunta ao Gemini uma informação utilizando a busca do Google como contexto\n",
        "\n",
        "response = client.models.generate_content(\n",
        "    model=MODEL_ID,\n",
        "    contents='Qual é o melhor MOBA atualmente?',\n",
        "    # Inserir a tool de busca do Google ###############################################\n",
        ")\n",
        "\n",
        "# Exibe a resposta na tela\n",
        "display(Markdown(f\"Resposta:\\n {response.text}\"))"
      ],
      "metadata": {
        "id": "yXaZd7iZ4ftw",
        "colab": {
          "base_uri": "https://localhost:8080/",
          "height": 761
        },
        "outputId": "0bfcac75-fea7-485d-f9e6-fbdc9367992d"
      },
      "execution_count": 17,
      "outputs": [
        {
          "output_type": "display_data",
          "data": {
            "text/plain": [
              "<IPython.core.display.Markdown object>"
            ],
            "text/markdown": "Resposta:\n Determinar o \"melhor\" MOBA é algo muito subjetivo e depende muito do que você procura em um jogo. Cada um tem suas próprias características, comunidade e estilo de jogo. No entanto, posso te dar uma visão geral dos MOBAs mais populares e aclamados atualmente, com seus respectivos pontos fortes e fracos, para que você possa escolher o que melhor se adapta às suas preferências:\n\n**Opções Populares e Aclamadas:**\n\n*   **League of Legends (LoL):**\n    *   **Prós:** O MOBA mais popular do mundo, com uma enorme comunidade, cena competitiva profissional vibrante, grande variedade de campeões (personagens jogáveis), atualizações frequentes e conteúdo constante. A Riot Games tem investido pesado em animações, músicas e histórias que expandem o universo de Runeterra.\n    *   **Contras:** Pode ser considerado complexo para novos jogadores devido à grande quantidade de campeões e itens. O jogo pode ser tóxico às vezes, com jogadores competitivos demais e agressivos.\n*   **Dota 2:**\n    *   **Prós:** Considerado por muitos o MOBA mais profundo e estratégico, com uma mecânica complexa e uma curva de aprendizado desafiadora. Oferece uma grande variedade de heróis com habilidades únicas e um sistema de itens complexo. A cena competitiva profissional também é muito forte, com torneios de grande porte.\n    *   **Contras:** A complexidade pode ser intimidante para iniciantes. A comunidade também pode ser tóxica.\n*   **Mobile Legends: Bang Bang:**\n    *   **Prós:** Muito popular em dispositivos móveis, com partidas rápidas e acessíveis. Possui uma grande variedade de heróis e um sistema de progressão envolvente.\n    *   **Contras:** Pode ser considerado menos estratégico do que LoL ou Dota 2. Alguns jogadores criticam o jogo por sua semelhança com League of Legends.\n\n**Outras Opções:**\n\n*   **Heroes of the Storm (HotS):** Mais casual e focado no trabalho em equipe do que outros MOBAs. Possui personagens de diversos jogos da Blizzard (Warcraft, Starcraft, Diablo). No entanto, a Blizzard descontinuou o desenvolvimento de conteúdo novo, o que significa que o jogo não recebe mais atualizações significativas.\n*   **Smite:** MOBA em terceira pessoa, com visão direta do personagem, o que o torna diferente dos outros. Possui deuses de diversas mitologias como personagens jogáveis.\n\n**Para te ajudar a escolher, pense no que você procura em um MOBA:**\n\n*   **Você quer um jogo com uma comunidade grande e ativa?** LoL e Mobile Legends são boas opções.\n*   **Você quer um jogo com muita profundidade estratégica e mecânicas complexas?** Dota 2 pode ser para você.\n*   **Você prefere um jogo mais casual e rápido para jogar no celular?** Mobile Legends é uma boa pedida.\n*   **Você quer um jogo com personagens de outros jogos que você gosta?** Heroes of the Storm pode ser interessante, embora não receba mais atualizações.\n*   **Você quer uma perspectiva diferente e jogar em terceira pessoa?** Smite é uma opção única.\n\n**Minha recomendação:**\n\nSe você é novo no mundo dos MOBAs, eu recomendaria começar com **League of Legends** ou **Mobile Legends**. Eles são mais acessíveis e têm comunidades grandes e ativas. Se você procura um desafio estratégico maior, **Dota 2** pode ser uma boa opção, mas esteja preparado para uma curva de aprendizado acentuada.\n\nO ideal é experimentar alguns jogos e ver qual deles te agrada mais! Cada um tem seu charme e apelo único.\n\nEspero que esta informação te ajude a encontrar o MOBA perfeito para você!\n"
          },
          "metadata": {}
        }
      ]
    },
    {
      "cell_type": "code",
      "source": [
        "# Exibe a busca\n",
        "print(f\"Busca realizada: {response.candidates[0].grounding_metadata.web_search_queries}\")\n",
        "# Exibe as URLs nas quais ele se baseou\n",
        "print(f\"Páginas utilizadas na resposta: {', '.join([site.web.title for site in response.candidates[0].grounding_metadata.grounding_chunks])}\")\n",
        "print()\n",
        "display(HTML(response.candidates[0].grounding_metadata.search_entry_point.rendered_content))"
      ],
      "metadata": {
        "id": "xHSNlTd84heJ",
        "colab": {
          "base_uri": "https://localhost:8080/",
          "height": 211
        },
        "outputId": "49110c37-7822-4709-99a8-0ce415a4eb21"
      },
      "execution_count": 20,
      "outputs": [
        {
          "output_type": "error",
          "ename": "AttributeError",
          "evalue": "'NoneType' object has no attribute 'web_search_queries'",
          "traceback": [
            "\u001b[0;31m---------------------------------------------------------------------------\u001b[0m",
            "\u001b[0;31mAttributeError\u001b[0m                            Traceback (most recent call last)",
            "\u001b[0;32m<ipython-input-20-deff1775db99>\u001b[0m in \u001b[0;36m<cell line: 0>\u001b[0;34m()\u001b[0m\n\u001b[1;32m      1\u001b[0m \u001b[0;31m# Exibe a busca\u001b[0m\u001b[0;34m\u001b[0m\u001b[0;34m\u001b[0m\u001b[0m\n\u001b[0;32m----> 2\u001b[0;31m \u001b[0mprint\u001b[0m\u001b[0;34m(\u001b[0m\u001b[0;34mf\"Busca realizada: {response.candidates[0].grounding_metadata.web_search_queries}\"\u001b[0m\u001b[0;34m)\u001b[0m\u001b[0;34m\u001b[0m\u001b[0;34m\u001b[0m\u001b[0m\n\u001b[0m\u001b[1;32m      3\u001b[0m \u001b[0;31m# Exibe as URLs nas quais ele se baseou\u001b[0m\u001b[0;34m\u001b[0m\u001b[0;34m\u001b[0m\u001b[0m\n\u001b[1;32m      4\u001b[0m \u001b[0mprint\u001b[0m\u001b[0;34m(\u001b[0m\u001b[0;34mf\"Páginas utilizadas na resposta: {', '.join([site.web.title for site in response.candidates[0].grounding_metadata.grounding_chunks])}\"\u001b[0m\u001b[0;34m)\u001b[0m\u001b[0;34m\u001b[0m\u001b[0;34m\u001b[0m\u001b[0m\n\u001b[1;32m      5\u001b[0m \u001b[0mprint\u001b[0m\u001b[0;34m(\u001b[0m\u001b[0;34m)\u001b[0m\u001b[0;34m\u001b[0m\u001b[0;34m\u001b[0m\u001b[0m\n",
            "\u001b[0;31mAttributeError\u001b[0m: 'NoneType' object has no attribute 'web_search_queries'"
          ]
        }
      ]
    },
    {
      "cell_type": "code",
      "source": [
        "# Instalar Framework ADK de agentes do Google ################################################\n",
        "!pip install -q google-adk"
      ],
      "metadata": {
        "id": "hvZ3UnPI4jhJ"
      },
      "execution_count": 54,
      "outputs": []
    },
    {
      "cell_type": "code",
      "execution_count": 55,
      "metadata": {
        "id": "aePV2bdfDeoW"
      },
      "outputs": [],
      "source": [
        "from google.adk.agents import Agent\n",
        "from google.adk.runners import Runner\n",
        "from google.adk.sessions import InMemorySessionService\n",
        "from google.adk.tools import google_search\n",
        "from google.genai import types  # Para criar conteúdos (Content e Part)\n",
        "from datetime import date\n",
        "import textwrap # Para formatar melhor a saída de texto\n",
        "from IPython.display import display, Markdown # Para exibir texto formatado no Colab\n",
        "import requests # Para fazer requisições HTTP\n",
        "import warnings\n",
        "\n",
        "warnings.filterwarnings(\"ignore\")"
      ]
    },
    {
      "cell_type": "code",
      "source": [
        "# Função auxiliar que envia uma mensagem para um agente via Runner e retorna a resposta final\n",
        "def call_agent(agent: Agent, message_text: str) -> str:\n",
        "    # Cria um serviço de sessão em memória\n",
        "    session_service = InMemorySessionService()\n",
        "    # Cria uma nova sessão (você pode personalizar os IDs conforme necessário)\n",
        "    session = session_service.create_session(app_name=agent.name, user_id=\"user1\", session_id=\"session1\")\n",
        "    # Cria um Runner para o agente\n",
        "    runner = Runner(agent=agent, app_name=agent.name, session_service=session_service)\n",
        "    # Cria o conteúdo da mensagem de entrada\n",
        "    content = types.Content(role=\"user\", parts=[types.Part(text=message_text)])\n",
        "\n",
        "    final_response = \"\"\n",
        "    # Itera assincronamente pelos eventos retornados durante a execução do agente\n",
        "    for event in runner.run(user_id=\"user1\", session_id=\"session1\", new_message=content):\n",
        "        if event.is_final_response():\n",
        "          for part in event.content.parts:\n",
        "            if part.text is not None:\n",
        "              final_response += part.text\n",
        "              final_response += \"\\n\"\n",
        "    return final_response"
      ],
      "metadata": {
        "id": "_xP4lWhsS5ko"
      },
      "execution_count": 56,
      "outputs": []
    },
    {
      "cell_type": "code",
      "source": [
        "# Função auxiliar para exibir texto formatado em Markdown no Colab\n",
        "def to_markdown(text):\n",
        "  text = text.replace('•', '  *')\n",
        "  return Markdown(textwrap.indent(text, '> ', predicate=lambda _: True))"
      ],
      "metadata": {
        "id": "8dosiodaxfFR"
      },
      "execution_count": 57,
      "outputs": []
    },
    {
      "cell_type": "code",
      "source": [
        "##########################################\n",
        "# --- Agente 1: Buscador de Notícias --- #\n",
        "##########################################\n",
        "def agente_buscador(topico, data):\n",
        "    buscador = Agent(\n",
        "        name=\"agente_buscador\",\n",
        "        model=\"gemini-2.0-flash\",\n",
        "        description=\"Agente que busca informaçoes no google\",\n",
        "        tools=[google_search],\n",
        "        instruction=\"\"\"\n",
        "        Você é um assistente de pesquisa e a sua tarefa é usar a ferramente do google(google_search), para recuperar noticias de alta relevancia. Foque em no maximo 5 lançamentos relevantes\n",
        "        com base nas reaçoes dos entusiastas. Devem ser atuais e de ate 1 mes a partir da data de hoje.\n",
        "        \"\"\"\n",
        "    )\n",
        "\n",
        "    entrada_do_agente_buscador = f\"Tópico: {topico}\\nData: {data}\"\n",
        "    # Executa o agente\n",
        "    lancamentos_buscados = call_agent(buscador, entrada_do_agente_buscador)\n",
        "    return lancamentos_buscados"
      ],
      "metadata": {
        "id": "o8bqIfi_DyH8"
      },
      "execution_count": 58,
      "outputs": []
    },
    {
      "cell_type": "code",
      "source": [
        "################################################\n",
        "# --- Agente 2: Planejador de posts --- #\n",
        "################################################\n",
        "def agente_planejador(topico, lancamentos_buscados):\n",
        "    planejador = Agent(\n",
        "        name=\"agente_planejador\",\n",
        "        model=\"gemini-2.0-flash\",\n",
        "        # Inserir as instruções do Agente Planejador #################################################\n",
        "        instruction=\"\"\"você é um planejador de conteudo, e especialista em redes sociais. Com base na lista de lançamentos mais recentes e relevantes buscador, voce deve usar a ferramente do google\n",
        "        (google_search) para criar um plano sobre os pontos mais relevantes que poderiamos abordar em um post sobre cada um deles. Voce pode usar o (google_search) para se aprofundar e encontrar mais informaçoes sobre o tema\n",
        "        ao final voce deve retornar o plano com os temas mais relevantes.\n",
        "        \"\"\",\n",
        "        description=\"Agente que planeja posts\",\n",
        "        tools=[google_search]\n",
        "    )\n",
        "\n",
        "    entrada_do_agente_planejador = f\"Tópico:{topico}\\nLançamentos buscados: {lancamentos_buscados}\"\n",
        "    # Executa o agente\n",
        "    plano_do_post = call_agent(planejador, entrada_do_agente_planejador)\n",
        "    return plano_do_post"
      ],
      "metadata": {
        "id": "y3VO1uo5_ghO"
      },
      "execution_count": 59,
      "outputs": []
    },
    {
      "cell_type": "code",
      "source": [
        "######################################\n",
        "# --- Agente 3: Redator do Post --- #\n",
        "######################################\n",
        "def agente_redator(topico, plano_do_post):\n",
        "    redator = Agent(\n",
        "        name=\"agente_redator\",\n",
        "        model=\"gemini-2.0-flash\",\n",
        "        instruction=\"\"\"\n",
        "            Você é um Redator Criativo especializado em criar posts virais para redes sociais.\n",
        "            Você escreve posts para a empresa Alura, a maior escola online de tecnologia do Brasil.\n",
        "            Utilize o tema fornecido no plano de post e os pontos mais relevantes fornecidos e, com base nisso,\n",
        "            escreva um rascunho de post para Instagram sobre o tema indicado.\n",
        "            O post deve ser engajador, informativo, com linguagem simples e incluir 2 a 4 hashtags no final.\n",
        "            \"\"\",\n",
        "        description=\"Agente redator de posts engajadores para Instagram\"\n",
        "    )\n",
        "    entrada_do_agente_redator = f\"Tópico: {topico}\\nPlano de post: {plano_do_post}\"\n",
        "    # Executa o agente\n",
        "    rascunho = call_agent(redator, entrada_do_agente_redator)\n",
        "    return rascunho"
      ],
      "metadata": {
        "id": "uOqlg2TRLVh1"
      },
      "execution_count": 60,
      "outputs": []
    },
    {
      "cell_type": "code",
      "source": [
        "##########################################\n",
        "# --- Agente 4: Revisor de Qualidade --- #\n",
        "##########################################\n",
        "def agente_revisor(topico, rascunho):\n",
        "    revisor = Agent(\n",
        "        name=\"agente_revisor\",\n",
        "        model=\"gemini-2.0-flash\",\n",
        "        instruction=\"\"\"\n",
        "            Você é um Editor e Revisor de Conteúdo meticuloso, especializado em posts para redes sociais, com foco no Instagram.\n",
        "            Por ter um público jovem, entre 18 e 30 anos, use um tom de escrita adequado.\n",
        "            Revise o rascunho de post de Instagram abaixo sobre o tópico indicado, verificando clareza, concisão, correção e tom.\n",
        "            Se o rascunho estiver bom, responda apenas 'O rascunho está ótimo e pronto para publicar!'.\n",
        "            Caso haja problemas, aponte-os e sugira melhorias.\n",
        "            \"\"\",\n",
        "        description=\"Agente revisor de post para redes sociais.\"\n",
        "    )\n",
        "    entrada_do_agente_revisor = f\"Tópico: {topico}\\nRascunho: {rascunho}\"\n",
        "    # Executa o agente\n",
        "    texto_revisado = call_agent(revisor, entrada_do_agente_revisor)\n",
        "    return texto_revisado"
      ],
      "metadata": {
        "id": "_aTb1SdkLeT6"
      },
      "execution_count": 61,
      "outputs": []
    },
    {
      "cell_type": "code",
      "source": [
        "data_de_hoje = date.today().strftime(\"%d/%m/%Y\")\n",
        "\n",
        "print(\"🚀 Iniciando o Sistema de Criação de Posts para Instagram com 4 Agentes 🚀\")\n",
        "\n",
        "# --- Obter o Tópico do Usuário ---\n",
        "topico = input(\"❓ Por favor, digite o TÓPICO sobre o qual você quer criar o post de tendências: \")\n",
        "\n",
        "# Inserir lógica do sistema de agentes ################################################\n",
        "if not topico:\n",
        "    print(\"Voce esqueceu de digitar o topico!\")\n",
        "else:\n",
        "    print(f\"Otimo, vamos criar o post sobre as novidades em {topico}\")\n",
        "\n",
        "resultados = agente_buscador(topico, data_de_hoje)\n",
        "print(\"🚀 Iniciando o Sistema de Criação de Posts para Instagram com 4 Agentes 🚀\")\n",
        "print(\"\\n--- Resultado do Agente 1(Buscador) --- \\n\")\n",
        "display(to_markdown(resultados))\n",
        "print(\"----------------------------------------------------------------------------------\")\n",
        "\n",
        "planodopost = agente_planejador(topico, resultados)\n",
        "print(\"\\n--- Resultado do Agente 2(Planejador) --- \\n\")\n",
        "display(to_markdown(planodopost))\n",
        "print(\"----------------------------------------------------------------------------------\")\n",
        "\n",
        "escritor = agente_redator(topico, planodopost)\n",
        "print(\"\\n--- Resultado do Agente 3(Redator) --- \\n\")\n",
        "display(to_markdown(escritor))\n",
        "print(\"----------------------------------------------------------------------------------\")\n",
        "\n",
        "revisor = agente_revisor(topico, escritor)\n",
        "print(\"\\n--- Resultado do Agente 4(Revisor) --- \\n\")\n",
        "display(to_markdown(revisor))\n",
        "print(\"----------------------------------------------------------------------------------\")"
      ],
      "metadata": {
        "id": "630ummxz4myx",
        "colab": {
          "base_uri": "https://localhost:8080/",
          "height": 1000
        },
        "outputId": "6f95383c-1c76-418b-a5d8-2b88ccf18046"
      },
      "execution_count": 64,
      "outputs": [
        {
          "output_type": "stream",
          "name": "stdout",
          "text": [
            "🚀 Iniciando o Sistema de Criação de Posts para Instagram com 4 Agentes 🚀\n",
            "❓ Por favor, digite o TÓPICO sobre o qual você quer criar o post de tendências: top 5 animais ferozes\n",
            "Otimo, vamos criar o post sobre as novidades em top 5 animais ferozes\n",
            "🚀 Iniciando o Sistema de Criação de Posts para Instagram com 4 Agentes 🚀\n",
            "\n",
            "--- Resultado do Agente 1(Buscador) --- \n",
            "\n"
          ]
        },
        {
          "output_type": "display_data",
          "data": {
            "text/plain": [
              "<IPython.core.display.Markdown object>"
            ],
            "text/markdown": "> Para fornecer uma lista dos 5 principais animais ferozes, com base em reações de entusiastas e lançamentos/notícias recentes (considerando até um mês a partir de hoje, 20 de maio de 2025), preciso pesquisar por informações atualizadas sobre interações recentes com animais selvagens, descobertas científicas ou notícias que tenham gerado grande interesse.\n> \n> \n> Com base nas notícias mais recentes e nas reações de entusiastas, aqui estão 5 exemplos de animais que despertaram interesse e preocupação, seja por sua ferocidade inerente ou por interações com humanos:\n> \n> 1.  **Herrerassaurídeos (Dinossauros Carnívoros Primitivos):** Uma pesquisa recente revelou que esses dinossauros, que viveram no Brasil e na Argentina há cerca de 230 milhões de anos, exibiam comportamentos agressivos entre si. A descoberta foi feita através da análise de lesões em crânios fossilizados, demonstrando que a agressividade não é um fenômeno recente na história evolutiva dos predadores.\n> 2.  **Onça-Pintada:** Notícias recentes sobre o transporte de uma onça-pintada para o Zoológico de São Paulo ressaltam a importância da conservação da diversidade genética da espécie. A onça-pintada continua sendo um animal selvagem que exige respeito e cautela, especialmente em áreas onde seu habitat se sobrepõe a áreas urbanas.\n> 3.  **Mosquito da Dengue (Aedes aegypti):** Este mosquito é considerado um dos animais mais perigosos do mundo devido à sua capacidade de transmitir doenças como dengue, zika, chikungunya e febre amarela.\n> 4.  **Cães (Agressividade Canina):** Um estudo brasileiro propõe novas maneiras de lidar com a agressividade canina, considerando fatores como genética, epigenética, simbologia e ambiente na formação do comportamento agressivo dos cães. A pesquisa busca desmistificar estereótipos e promover uma compreensão mais completa do comportamento canino.\n> 5.  **Serpentes (Ilha dos EUA com Milhões de Serpentes):** Uma notícia relata a existência de uma ilha nos EUA com milhões de serpentes que ameaçam a floresta.\n"
          },
          "metadata": {}
        },
        {
          "output_type": "stream",
          "name": "stdout",
          "text": [
            "----------------------------------------------------------------------------------\n",
            "\n",
            "--- Resultado do Agente 2(Planejador) --- \n",
            "\n"
          ]
        },
        {
          "output_type": "display_data",
          "data": {
            "text/plain": [
              "<IPython.core.display.Markdown object>"
            ],
            "text/markdown": "> Ok, com base nos lançamentos que você me forneceu, aqui está um plano de conteúdo para um post sobre os 5 animais ferozes, considerando os pontos mais relevantes para as redes sociais:\n> \n> \n> ## Plano de Conteúdo: Top 5 Animais Ferozes (e por que eles importam!)\n> \n> **Objetivo:** Criar um post envolvente e informativo sobre animais que despertam tanto fascínio quanto receio, incentivando a conscientização sobre sua importância ecológica e os desafios que enfrentam.\n> \n> **Público-alvo:** Entusiastas da natureza, amantes de animais, pessoas interessadas em ciência e conservação, e o público geral das redes sociais.\n> \n> **Formato:** Lista Top 5 (adaptável para carrossel no Instagram, post no Facebook, thread no Twitter, etc.)\n> \n> **Temas e Abordagens:**\n> \n> 1.  **Herrerassaurídeos: A Fúria Ancestral:**\n>     *   **Título Atraente:** \"Dinossauros Briguentos! Descoberta revela agressividade surpreendente em predadores pré-históricos no Brasil.\"\n>     *   **Conteúdo:**\n>         *   Apresente os herrerassaurídeos como os \"bad boys\" originais do mundo dos dinossauros.\n>         *   Destaque a descoberta de marcas de mordidas em fósseis brasileiros e argentinos como evidência de comportamento agressivo.\n>         *   Explique que essa agressividade pode estar ligada a disputas por território ou parceiros, mostrando que a competição é uma característica antiga da vida na Terra.\n>         *   **Adicione um toque \"BR\":** Enfatize que essa descoberta coloca o Brasil no mapa da paleontologia, revelando informações valiosas sobre a evolução dos dinossauros.\n>     *   **Visual:** Imagens de alta qualidade de fósseis de herrerassaurídeos e reconstruções artísticas de como esses dinossauros poderiam ter se comportado.\n> \n> 2.  **Onça-Pintada: Beleza Selvagem em Risco:**\n>     *   **Título Atraente:** \"Romance no Zoológico! Onça-pintada viaja para SP em busca de par e esperança para a espécie.\"\n>     *   **Conteúdo:**\n>         *   Apresente a onça-pintada como um símbolo da fauna brasileira e da conservação da biodiversidade.\n>         *   Compartilhe a notícia sobre a transferência de uma onça-pintada para o Zoológico de São Paulo como parte de um programa de conservação.\n>         *   Explique a importância da diversidade genética e do manejo responsável de espécies ameaçadas.\n>         *   Alerta sobre as ameaças que a onça-pintada enfrenta, como perda de habitat, conflitos com humanos e caça.\n>     *   **Visual:** Fotos e vídeos impressionantes de onças-pintadas em seu habitat natural e no zoológico, destacando sua beleza e imponência.\n> \n> 3.  **Mosquito da Dengue: O Inimigo Invisível:**\n>     *   **Título Atraente:** \"Silencioso e Letal: Por que o mosquito da dengue é um dos animais mais perigosos do mundo (e como se proteger).\"\n>     *   **Conteúdo:**\n>         *   Explique por que o mosquito *Aedes aegypti* é considerado um dos animais mais perigosos do mundo devido à sua capacidade de transmitir doenças como dengue, zika, chikungunya e febre amarela.\n>         *   Destaque os sintomas e os perigos dessas doenças, especialmente para grávidas e crianças.\n>         *   Forneça dicas práticas e eficazes para prevenir a proliferação do mosquito, como eliminar água parada, usar repelente e instalar telas em janelas.\n>         *   Incentive a participação da comunidade na luta contra o mosquito, lembrando que a prevenção é responsabilidade de todos.\n>     *   **Visual:** Infográficos informativos sobre o ciclo de vida do mosquito, os sintomas das doenças que ele transmite e as medidas de prevenção.\n> \n> 4.  **Cães: Agressividade tem explicação:**\n>     *   **Título Atraente:** \"Cachorro Bravo? Estudo revela os segredos por trás da agressividade canina (e como ter um cão mais feliz).\"\n>     *   **Conteúdo:**\n>         *   Apresente o estudo brasileiro que investiga a agressividade canina, destacando que a genética não é o único fator determinante.\n>         *   Explique como fatores como o ambiente, a socialização e a relação com o tutor podem influenciar o comportamento agressivo dos cães.\n>         *   Desmistifique estereótipos sobre raças perigosas, mostrando que a criação e o treinamento são cruciais.\n>         *   Ofereça dicas para tutores lidarem com a agressividade canina, como buscar ajuda profissional, proporcionar um ambiente seguro e estimular o exercício físico e mental.\n>     *   **Visual:** Fotos de cães de diferentes raças interagindo positivamente com humanos e outros animais, transmitindo a mensagem de que a agressividade não é inevitável.\n> \n> 5.  **Ilha das Serpentes: Um Ecossistema Ameaçado:**\n>     *   **Título Atraente:** \"Invasão Répteis! Ilha nos EUA enfrenta crise com milhões de cobras que devoram a floresta.\"\n>     *   **Conteúdo:**\n>         *   Apresente a história da ilha de Guam, nos EUA, que foi invadida pela cobra-arbórea-marrom após a Segunda Guerra Mundial.\n>         *   Explique como essa espécie invasora dizimou a população de aves nativas, causando um desequilíbrio ecológico em toda a ilha.\n>         *   Destaque os esforços para controlar a população de cobras e restaurar o ecossistema, incluindo o uso de iscas envenenadas e a reintrodução de aves criadas em cativeiro.\n>         *   Use essa história como um exemplo dos perigos das espécies invasoras e da importância da conservação da biodiversidade em ilhas e outros ecossistemas frágeis.\n>     *   **Visual:** Imagens impressionantes da ilha de Guam, mostrando a densidade de teias de aranha nas florestas e os esforços para controlar a população de cobras.\n> \n> **Call to Action (Chamada para Ação):**\n> \n> *   Incentive os seguidores a compartilhar suas opiniões e experiências sobre esses animais nos comentários.\n> *   Convide-os a marcar amigos que se interessariam pelo assunto.\n> *   Peça para compartilharem dicas de como prevenir a dengue em suas comunidades.\n> *   Sugira que pesquisem mais sobre projetos de conservação de onças-pintadas e outras espécies ameaçadas.\n> \n> **Hashtags:**\n> \n> \\#animaisferozes \\#naturezaselvagem \\#conservacao \\#biodiversidade \\#ciencia \\#ecologia \\#meioambiente \\#curiosidades \\#dengue \\#caes \\#serpentes \\#brasil\n> \n> **Notas Adicionais:**\n> \n> *   Use uma linguagem acessível e envolvente, evitando jargões científicos.\n> *   Priorize informações relevantes e atuais, com base nas notícias e pesquisas mais recentes.\n> *   Adapte o conteúdo para diferentes plataformas de mídia social, explorando os recursos visuais e interativos de cada uma.\n> *   Monitore os comentários e responda às perguntas dos seguidores, criando um diálogo em torno do tema.\n> *   Considere criar enquetes e quizzes para aumentar o engajamento do público.\n> *   Se possível, inclua depoimentos de especialistas em conservação e comportamento animal.\n> \n> Este plano de conteúdo tem como objetivo despertar a curiosidade e a conscientização sobre o mundo animal, incentivando a adoção de práticas mais sustentáveis e responsáveis em relação à natureza.\n> \n"
          },
          "metadata": {}
        },
        {
          "output_type": "stream",
          "name": "stdout",
          "text": [
            "----------------------------------------------------------------------------------\n"
          ]
        },
        {
          "output_type": "stream",
          "name": "stderr",
          "text": [
            "Exception in thread Thread-84 (_asyncio_thread_main):\n",
            "Traceback (most recent call last):\n",
            "  File \"/usr/lib/python3.11/threading.py\", line 1045, in _bootstrap_inner\n",
            "    self.run()\n",
            "  File \"/usr/lib/python3.11/threading.py\", line 982, in run\n",
            "    self._target(*self._args, **self._kwargs)\n",
            "  File \"/usr/local/lib/python3.11/dist-packages/google/adk/runners.py\", line 138, in _asyncio_thread_main\n",
            "    asyncio.run(_invoke_run_async())\n",
            "  File \"/usr/lib/python3.11/asyncio/runners.py\", line 190, in run\n",
            "    return runner.run(main)\n",
            "           ^^^^^^^^^^^^^^^^\n",
            "  File \"/usr/lib/python3.11/asyncio/runners.py\", line 118, in run\n",
            "    return self._loop.run_until_complete(task)\n",
            "           ^^^^^^^^^^^^^^^^^^^^^^^^^^^^^^^^^^^\n",
            "  File \"/usr/lib/python3.11/asyncio/base_events.py\", line 654, in run_until_complete\n",
            "    return future.result()\n",
            "           ^^^^^^^^^^^^^^^\n",
            "  File \"/usr/local/lib/python3.11/dist-packages/google/adk/runners.py\", line 126, in _invoke_run_async\n",
            "    async for event in self.run_async(\n",
            "  File \"/usr/local/lib/python3.11/dist-packages/google/adk/runners.py\", line 197, in run_async\n",
            "    async for event in invocation_context.agent.run_async(invocation_context):\n",
            "  File \"/usr/local/lib/python3.11/dist-packages/google/adk/agents/base_agent.py\", line 133, in run_async\n",
            "    async for event in self._run_async_impl(ctx):\n",
            "  File \"/usr/local/lib/python3.11/dist-packages/google/adk/agents/llm_agent.py\", line 246, in _run_async_impl\n",
            "    async for event in self._llm_flow.run_async(ctx):\n",
            "  File \"/usr/local/lib/python3.11/dist-packages/google/adk/flows/llm_flows/base_llm_flow.py\", line 243, in run_async\n",
            "    async for event in self._run_one_step_async(invocation_context):\n",
            "  File \"/usr/local/lib/python3.11/dist-packages/google/adk/flows/llm_flows/base_llm_flow.py\", line 268, in _run_one_step_async\n",
            "    async for llm_response in self._call_llm_async(\n",
            "  File \"/usr/local/lib/python3.11/dist-packages/google/adk/flows/llm_flows/base_llm_flow.py\", line 483, in _call_llm_async\n",
            "    async for llm_response in llm.generate_content_async(\n",
            "  File \"/usr/local/lib/python3.11/dist-packages/google/adk/models/google_llm.py\", line 140, in generate_content_async\n",
            "    response = await self.api_client.aio.models.generate_content(\n",
            "               ^^^^^^^^^^^^^^^^^^^^^^^^^^^^^^^^^^^^^^^^^^^^^^^^^^\n",
            "  File \"/usr/local/lib/python3.11/dist-packages/google/genai/models.py\", line 6672, in generate_content\n",
            "    response = await self._generate_content(\n",
            "               ^^^^^^^^^^^^^^^^^^^^^^^^^^^^^\n",
            "  File \"/usr/local/lib/python3.11/dist-packages/google/genai/models.py\", line 5674, in _generate_content\n",
            "    response_dict = await self._api_client.async_request(\n",
            "                    ^^^^^^^^^^^^^^^^^^^^^^^^^^^^^^^^^^^^^\n",
            "  File \"/usr/local/lib/python3.11/dist-packages/google/genai/_api_client.py\", line 789, in async_request\n",
            "    result = await self._async_request(http_request=http_request, stream=False)\n",
            "             ^^^^^^^^^^^^^^^^^^^^^^^^^^^^^^^^^^^^^^^^^^^^^^^^^^^^^^^^^^^^^^^^^^\n",
            "  File \"/usr/local/lib/python3.11/dist-packages/google/genai/_api_client.py\", line 733, in _async_request\n",
            "    await errors.APIError.raise_for_async_response(response)\n",
            "  File \"/usr/local/lib/python3.11/dist-packages/google/genai/errors.py\", line 129, in raise_for_async_response\n",
            "    raise ClientError(status_code, response_json, response)\n",
            "google.genai.errors.ClientError: 429 RESOURCE_EXHAUSTED. {'error': {'code': 429, 'message': \"Gemini 2.5 Pro Preview doesn't have a free quota tier. For more information on this error, head to: https://ai.google.dev/gemini-api/docs/rate-limits.\", 'status': 'RESOURCE_EXHAUSTED', 'details': [{'@type': 'type.googleapis.com/google.rpc.QuotaFailure', 'violations': [{'quotaMetric': 'generativelanguage.googleapis.com/generate_content_free_tier_input_token_count', 'quotaId': 'GenerateContentInputTokensPerModelPerDay-FreeTier', 'quotaDimensions': {'location': 'global', 'model': 'gemini-2.5-pro-exp'}}, {'quotaMetric': 'generativelanguage.googleapis.com/generate_content_free_tier_input_token_count', 'quotaId': 'GenerateContentInputTokensPerModelPerMinute-FreeTier', 'quotaDimensions': {'location': 'global', 'model': 'gemini-2.5-pro-exp'}}, {'quotaMetric': 'generativelanguage.googleapis.com/generate_content_free_tier_requests', 'quotaId': 'GenerateRequestsPerMinutePerProjectPerModel-FreeTier', 'quotaDimensions': {'location': 'global', 'model': 'gemini-2.5-pro-exp'}}, {'quotaMetric': 'generativelanguage.googleapis.com/generate_content_free_tier_requests', 'quotaId': 'GenerateRequestsPerDayPerProjectPerModel-FreeTier', 'quotaDimensions': {'location': 'global', 'model': 'gemini-2.5-pro-exp'}}]}, {'@type': 'type.googleapis.com/google.rpc.Help', 'links': [{'description': 'Learn more about Gemini API quotas', 'url': 'https://ai.google.dev/gemini-api/docs/rate-limits'}]}, {'@type': 'type.googleapis.com/google.rpc.RetryInfo', 'retryDelay': '48s'}]}}\n"
          ]
        },
        {
          "output_type": "stream",
          "name": "stdout",
          "text": [
            "\n",
            "--- Resultado do Agente 3(Redator) --- \n",
            "\n"
          ]
        },
        {
          "output_type": "display_data",
          "data": {
            "text/plain": [
              "<IPython.core.display.Markdown object>"
            ],
            "text/markdown": ""
          },
          "metadata": {}
        },
        {
          "output_type": "stream",
          "name": "stderr",
          "text": [
            "ERROR:asyncio:Task exception was never retrieved\n",
            "future: <Task finished name='Task-239' coro=<AsyncClient.aclose() done, defined at /usr/local/lib/python3.11/dist-packages/httpx/_client.py:1978> exception=RuntimeError('Event loop is closed')>\n",
            "Traceback (most recent call last):\n",
            "  File \"/usr/local/lib/python3.11/dist-packages/httpx/_client.py\", line 1985, in aclose\n",
            "    await self._transport.aclose()\n",
            "  File \"/usr/local/lib/python3.11/dist-packages/httpx/_transports/default.py\", line 406, in aclose\n",
            "    await self._pool.aclose()\n",
            "  File \"/usr/local/lib/python3.11/dist-packages/httpcore/_async/connection_pool.py\", line 353, in aclose\n",
            "    await self._close_connections(closing_connections)\n",
            "  File \"/usr/local/lib/python3.11/dist-packages/httpcore/_async/connection_pool.py\", line 345, in _close_connections\n",
            "    await connection.aclose()\n",
            "  File \"/usr/local/lib/python3.11/dist-packages/httpcore/_async/connection.py\", line 173, in aclose\n",
            "    await self._connection.aclose()\n",
            "  File \"/usr/local/lib/python3.11/dist-packages/httpcore/_async/http11.py\", line 258, in aclose\n",
            "    await self._network_stream.aclose()\n",
            "  File \"/usr/local/lib/python3.11/dist-packages/httpcore/_backends/anyio.py\", line 53, in aclose\n",
            "    await self._stream.aclose()\n",
            "  File \"/usr/local/lib/python3.11/dist-packages/anyio/streams/tls.py\", line 216, in aclose\n",
            "    await self.transport_stream.aclose()\n",
            "  File \"/usr/local/lib/python3.11/dist-packages/anyio/_backends/_asyncio.py\", line 1314, in aclose\n",
            "    self._transport.close()\n",
            "  File \"/usr/lib/python3.11/asyncio/selector_events.py\", line 864, in close\n",
            "    self._loop.call_soon(self._call_connection_lost, None)\n",
            "  File \"/usr/lib/python3.11/asyncio/base_events.py\", line 762, in call_soon\n",
            "    self._check_closed()\n",
            "  File \"/usr/lib/python3.11/asyncio/base_events.py\", line 520, in _check_closed\n",
            "    raise RuntimeError('Event loop is closed')\n",
            "RuntimeError: Event loop is closed\n"
          ]
        },
        {
          "output_type": "stream",
          "name": "stdout",
          "text": [
            "----------------------------------------------------------------------------------\n"
          ]
        },
        {
          "output_type": "stream",
          "name": "stderr",
          "text": [
            "Exception in thread Thread-86 (_asyncio_thread_main):\n",
            "Traceback (most recent call last):\n",
            "  File \"/usr/lib/python3.11/threading.py\", line 1045, in _bootstrap_inner\n",
            "    self.run()\n",
            "  File \"/usr/lib/python3.11/threading.py\", line 982, in run\n",
            "    self._target(*self._args, **self._kwargs)\n",
            "  File \"/usr/local/lib/python3.11/dist-packages/google/adk/runners.py\", line 138, in _asyncio_thread_main\n",
            "    asyncio.run(_invoke_run_async())\n",
            "  File \"/usr/lib/python3.11/asyncio/runners.py\", line 190, in run\n",
            "    return runner.run(main)\n",
            "           ^^^^^^^^^^^^^^^^\n",
            "  File \"/usr/lib/python3.11/asyncio/runners.py\", line 118, in run\n",
            "    return self._loop.run_until_complete(task)\n",
            "           ^^^^^^^^^^^^^^^^^^^^^^^^^^^^^^^^^^^\n",
            "  File \"/usr/lib/python3.11/asyncio/base_events.py\", line 654, in run_until_complete\n",
            "    return future.result()\n",
            "           ^^^^^^^^^^^^^^^\n",
            "  File \"/usr/local/lib/python3.11/dist-packages/google/adk/runners.py\", line 126, in _invoke_run_async\n",
            "    async for event in self.run_async(\n",
            "  File \"/usr/local/lib/python3.11/dist-packages/google/adk/runners.py\", line 197, in run_async\n",
            "    async for event in invocation_context.agent.run_async(invocation_context):\n",
            "  File \"/usr/local/lib/python3.11/dist-packages/google/adk/agents/base_agent.py\", line 133, in run_async\n",
            "    async for event in self._run_async_impl(ctx):\n",
            "  File \"/usr/local/lib/python3.11/dist-packages/google/adk/agents/llm_agent.py\", line 246, in _run_async_impl\n",
            "    async for event in self._llm_flow.run_async(ctx):\n",
            "  File \"/usr/local/lib/python3.11/dist-packages/google/adk/flows/llm_flows/base_llm_flow.py\", line 243, in run_async\n",
            "    async for event in self._run_one_step_async(invocation_context):\n",
            "  File \"/usr/local/lib/python3.11/dist-packages/google/adk/flows/llm_flows/base_llm_flow.py\", line 268, in _run_one_step_async\n",
            "    async for llm_response in self._call_llm_async(\n",
            "  File \"/usr/local/lib/python3.11/dist-packages/google/adk/flows/llm_flows/base_llm_flow.py\", line 483, in _call_llm_async\n",
            "    async for llm_response in llm.generate_content_async(\n",
            "  File \"/usr/local/lib/python3.11/dist-packages/google/adk/models/google_llm.py\", line 140, in generate_content_async\n",
            "    response = await self.api_client.aio.models.generate_content(\n",
            "               ^^^^^^^^^^^^^^^^^^^^^^^^^^^^^^^^^^^^^^^^^^^^^^^^^^\n",
            "  File \"/usr/local/lib/python3.11/dist-packages/google/genai/models.py\", line 6672, in generate_content\n",
            "    response = await self._generate_content(\n",
            "               ^^^^^^^^^^^^^^^^^^^^^^^^^^^^^\n",
            "  File \"/usr/local/lib/python3.11/dist-packages/google/genai/models.py\", line 5674, in _generate_content\n",
            "    response_dict = await self._api_client.async_request(\n",
            "                    ^^^^^^^^^^^^^^^^^^^^^^^^^^^^^^^^^^^^^\n",
            "  File \"/usr/local/lib/python3.11/dist-packages/google/genai/_api_client.py\", line 789, in async_request\n",
            "    result = await self._async_request(http_request=http_request, stream=False)\n",
            "             ^^^^^^^^^^^^^^^^^^^^^^^^^^^^^^^^^^^^^^^^^^^^^^^^^^^^^^^^^^^^^^^^^^\n",
            "  File \"/usr/local/lib/python3.11/dist-packages/google/genai/_api_client.py\", line 733, in _async_request\n",
            "    await errors.APIError.raise_for_async_response(response)\n",
            "  File \"/usr/local/lib/python3.11/dist-packages/google/genai/errors.py\", line 129, in raise_for_async_response\n",
            "    raise ClientError(status_code, response_json, response)\n",
            "google.genai.errors.ClientError: 429 RESOURCE_EXHAUSTED. {'error': {'code': 429, 'message': \"Gemini 2.5 Pro Preview doesn't have a free quota tier. For more information on this error, head to: https://ai.google.dev/gemini-api/docs/rate-limits.\", 'status': 'RESOURCE_EXHAUSTED', 'details': [{'@type': 'type.googleapis.com/google.rpc.QuotaFailure', 'violations': [{'quotaMetric': 'generativelanguage.googleapis.com/generate_content_free_tier_input_token_count', 'quotaId': 'GenerateContentInputTokensPerModelPerDay-FreeTier', 'quotaDimensions': {'location': 'global', 'model': 'gemini-2.5-pro-exp'}}, {'quotaMetric': 'generativelanguage.googleapis.com/generate_content_free_tier_requests', 'quotaId': 'GenerateRequestsPerDayPerProjectPerModel-FreeTier', 'quotaDimensions': {'location': 'global', 'model': 'gemini-2.5-pro-exp'}}, {'quotaMetric': 'generativelanguage.googleapis.com/generate_content_free_tier_requests', 'quotaId': 'GenerateRequestsPerMinutePerProjectPerModel-FreeTier', 'quotaDimensions': {'location': 'global', 'model': 'gemini-2.5-pro-exp'}}, {'quotaMetric': 'generativelanguage.googleapis.com/generate_content_free_tier_input_token_count', 'quotaId': 'GenerateContentInputTokensPerModelPerMinute-FreeTier', 'quotaDimensions': {'location': 'global', 'model': 'gemini-2.5-pro-exp'}}]}, {'@type': 'type.googleapis.com/google.rpc.Help', 'links': [{'description': 'Learn more about Gemini API quotas', 'url': 'https://ai.google.dev/gemini-api/docs/rate-limits'}]}, {'@type': 'type.googleapis.com/google.rpc.RetryInfo', 'retryDelay': '48s'}]}}\n"
          ]
        },
        {
          "output_type": "stream",
          "name": "stdout",
          "text": [
            "\n",
            "--- Resultado do Agente 4(Revisor) --- \n",
            "\n"
          ]
        },
        {
          "output_type": "display_data",
          "data": {
            "text/plain": [
              "<IPython.core.display.Markdown object>"
            ],
            "text/markdown": ""
          },
          "metadata": {}
        },
        {
          "output_type": "stream",
          "name": "stdout",
          "text": [
            "----------------------------------------------------------------------------------\n"
          ]
        }
      ]
    },
    {
      "cell_type": "code",
      "source": [],
      "metadata": {
        "id": "lnltETjbYsVi"
      },
      "execution_count": null,
      "outputs": []
    }
  ]
}